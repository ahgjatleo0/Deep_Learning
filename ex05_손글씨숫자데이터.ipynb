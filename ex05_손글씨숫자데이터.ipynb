{
  "nbformat": 4,
  "nbformat_minor": 0,
  "metadata": {
    "colab": {
      "provenance": [],
      "gpuType": "T4"
    },
    "kernelspec": {
      "name": "python3",
      "display_name": "Python 3"
    },
    "language_info": {
      "name": "python"
    },
    "accelerator": "GPU"
  },
  "cells": [
    {
      "cell_type": "markdown",
      "source": [
        "## 회귀\n",
        "- 출력층 units = 1, activation = 'linear'\n",
        "- loss = MSE(평균제곱오차)\n",
        "\n",
        "# 분류\n",
        "## 이진분류\n",
        "- 출력층 units = 1, activation = 'sigmoid'\n",
        "- loss = 'binary_crossentropy'\n",
        "\n",
        "## 다중분류\n",
        "- 출력층 units = 클래스의 수, activation = 'softmax'\n",
        "- loss = 'categorical_crossentropy'"
      ],
      "metadata": {
        "id": "EPmgvdkq2DVI"
      }
    },
    {
      "cell_type": "markdown",
      "source": [
        "### 목표\n",
        "- 신경망을 활용하여 다중 분류에 필요한 keras의 기능을 활용해보자!"
      ],
      "metadata": {
        "id": "LmIeZjARbZTA"
      }
    },
    {
      "cell_type": "code",
      "source": [
        "import numpy as np\n",
        "import matplotlib.pyplot as plt\n",
        "import pandas as pd\n",
        "from tensorflow.keras.datasets import mnist"
      ],
      "metadata": {
        "id": "L9HnBj6FbYNI"
      },
      "execution_count": null,
      "outputs": []
    },
    {
      "cell_type": "code",
      "source": [
        "(X_train, y_train), (X_test, y_test) = mnist.load_data()"
      ],
      "metadata": {
        "colab": {
          "base_uri": "https://localhost:8080/"
        },
        "id": "pGKErpuHbYQw",
        "outputId": "4fe7596c-dd94-4946-c5bc-865ec670dc31"
      },
      "execution_count": null,
      "outputs": [
        {
          "output_type": "stream",
          "name": "stdout",
          "text": [
            "Downloading data from https://storage.googleapis.com/tensorflow/tf-keras-datasets/mnist.npz\n",
            "11490434/11490434 [==============================] - 0s 0us/step\n"
          ]
        }
      ]
    },
    {
      "cell_type": "code",
      "source": [
        "X_train.shape, X_test.shape"
      ],
      "metadata": {
        "colab": {
          "base_uri": "https://localhost:8080/"
        },
        "id": "GDI6NHWfbYTX",
        "outputId": "0cc93b0a-d114-4962-9ceb-841eb0aefc7e"
      },
      "execution_count": null,
      "outputs": [
        {
          "output_type": "execute_result",
          "data": {
            "text/plain": [
              "((60000, 28, 28), (10000, 28, 28))"
            ]
          },
          "metadata": {},
          "execution_count": 3
        }
      ]
    },
    {
      "cell_type": "code",
      "source": [
        "y_train.shape, y_test.shape"
      ],
      "metadata": {
        "colab": {
          "base_uri": "https://localhost:8080/"
        },
        "id": "-Bnd_9kdbYWS",
        "outputId": "0ebc5aa0-e567-425a-e5fa-39aa7ead9ea7"
      },
      "execution_count": null,
      "outputs": [
        {
          "output_type": "execute_result",
          "data": {
            "text/plain": [
              "((60000,), (10000,))"
            ]
          },
          "metadata": {},
          "execution_count": 4
        }
      ]
    },
    {
      "cell_type": "code",
      "source": [
        "# 50번째 이미지 확인해보기\n",
        "plt.imshow(X_train[50], cmap = 'gray')\n",
        "plt.show()"
      ],
      "metadata": {
        "colab": {
          "base_uri": "https://localhost:8080/",
          "height": 430
        },
        "id": "EMITjE01bYY_",
        "outputId": "f6a2d361-1dd4-46f8-bf50-26017b27ffa0"
      },
      "execution_count": null,
      "outputs": [
        {
          "output_type": "display_data",
          "data": {
            "text/plain": [
              "<Figure size 640x480 with 1 Axes>"
            ],
            "image/png": "[encoded data removed]"
          },
          "metadata": {}
        }
      ]
    },
    {
      "cell_type": "code",
      "source": [
        "y_train[50]"
      ],
      "metadata": {
        "colab": {
          "base_uri": "https://localhost:8080/"
        },
        "id": "qNcOw7XUbYbn",
        "outputId": "6bbe6c17-306a-485b-98eb-8cfc4fe271ca"
      },
      "execution_count": null,
      "outputs": [
        {
          "output_type": "execute_result",
          "data": {
            "text/plain": [
              "3"
            ]
          },
          "metadata": {},
          "execution_count": 9
        }
      ]
    },
    {
      "cell_type": "code",
      "source": [
        "# 클래스의 개수 확인 - 10개\n",
        "print(np.unique(y_train))\n",
        "print(np.unique(y_train).size)\n",
        "print(np.unique(y_train, return_counts = True))"
      ],
      "metadata": {
        "colab": {
          "base_uri": "https://localhost:8080/"
        },
        "id": "rijkJEWbbYeH",
        "outputId": "c4a1f83d-b560-4b1f-f39c-32092c2890ac"
      },
      "execution_count": null,
      "outputs": [
        {
          "output_type": "stream",
          "name": "stdout",
          "text": [
            "[0 1 2 3 4 5 6 7 8 9]\n",
            "10\n",
            "(array([0, 1, 2, 3, 4, 5, 6, 7, 8, 9], dtype=uint8), array([5923, 6742, 5958, 6131, 5842, 5421, 5918, 6265, 5851, 5949]))\n"
          ]
        }
      ]
    },
    {
      "cell_type": "markdown",
      "source": [
        "### MLP 신경망 설계"
      ],
      "metadata": {
        "id": "kaAPt3dtbYgv"
      }
    },
    {
      "cell_type": "code",
      "source": [
        "y_train_one_hot = pd.get_dummies(y_train)\n",
        "y_test_one_hot = pd.get_dummies(y_test)\n",
        "\n",
        "# 크기확인\n",
        "print(y_train_one_hot.shape)\n",
        "print(y_test_one_hot.shape)\n",
        "# from tensorflow.keras.utils import to_categorical"
      ],
      "metadata": {
        "colab": {
          "base_uri": "https://localhost:8080/"
        },
        "id": "O2vs5Ak8bYjf",
        "outputId": "24791322-673f-4ca1-bf48-a5d0d317d0bd"
      },
      "execution_count": null,
      "outputs": [
        {
          "output_type": "stream",
          "name": "stdout",
          "text": [
            "(60000, 10)\n",
            "(10000, 10)\n"
          ]
        }
      ]
    },
    {
      "cell_type": "code",
      "source": [
        "from tensorflow.keras import Sequential\n",
        "from tensorflow.keras.layers import Dense, Flatten\n",
        "from tensorflow.keras.optimizers import SGD, Adam"
      ],
      "metadata": {
        "id": "aHIIBOmDbYmX"
      },
      "execution_count": null,
      "outputs": []
    },
    {
      "cell_type": "code",
      "source": [
        "X_train2 = X_train.reshape(60000, 28*28)\n",
        "X_test2 = X_test.reshape(10000, 28*28)"
      ],
      "metadata": {
        "id": "q2gnhimL8f4y"
      },
      "execution_count": null,
      "outputs": []
    },
    {
      "cell_type": "code",
      "source": [
        "X_test.reshape(10000, 28*28).shape"
      ],
      "metadata": {
        "colab": {
          "base_uri": "https://localhost:8080/"
        },
        "id": "RxBpiH3qiqQE",
        "outputId": "e61472e4-1465-47d1-c269-aa2c9666aae7"
      },
      "execution_count": null,
      "outputs": [
        {
          "output_type": "execute_result",
          "data": {
            "text/plain": [
              "(10000, 784)"
            ]
          },
          "metadata": {},
          "execution_count": 23
        }
      ]
    },
    {
      "cell_type": "code",
      "source": [
        "model_mlp = Sequential()\n",
        "model_mlp.add(Dense(300, input_dim = 784, activation = 'relu'))\n",
        "model_mlp.add(Dense(200, activation = 'relu'))\n",
        "model_mlp.add(Dense(50, activation = 'relu'))\n",
        "\n",
        "model_mlp.add(Dense(10, activation='softmax'))"
      ],
      "metadata": {
        "id": "Oa7vwtzUiqSd"
      },
      "execution_count": null,
      "outputs": []
    },
    {
      "cell_type": "code",
      "source": [
        "# 학습/평가 방법 설정\n",
        "model_mlp.compile(loss='sparse_categorical_crossentropy',\n",
        "                  optimizer = 'adam',\n",
        "                  metrics = ['accuracy'])"
      ],
      "metadata": {
        "id": "pBVsnqSUiqU2"
      },
      "execution_count": null,
      "outputs": []
    },
    {
      "cell_type": "code",
      "source": [
        "# 학습\n",
        "mlp_history = model_mlp.fit(X_train2, y_train, validation_split=0.3,\n",
        "                            epochs = 50)"
      ],
      "metadata": {
        "id": "XdXrufDXiqXN"
      },
      "execution_count": null,
      "outputs": []
    },
    {
      "cell_type": "code",
      "source": [
        "plt.figure(figsize = (10,4))\n",
        "\n",
        "plt.plot(mlp_history.history['accuracy'], label='acc')\n",
        "plt.plot(mlp_history.history['val_accuracy'], label='val_acc')\n",
        "\n",
        "plt.legend()\n",
        "plt.show()"
      ],
      "metadata": {
        "id": "uvd4yKRniqZk"
      },
      "execution_count": null,
      "outputs": []
    },
    {
      "cell_type": "code",
      "source": [
        "pre =model_mlp.predict(X_test2[1:2])\n",
        "print(pre)\n",
        "print('예측한 숫자 :', pre.argmax()) # 최대값 위치 반환\n",
        "print('실제 답 : ', y_test[1])"
      ],
      "metadata": {
        "colab": {
          "base_uri": "https://localhost:8080/"
        },
        "id": "ICqAlE1piqb8",
        "outputId": "f0d997f3-026d-4845-9048-93aa6ff332be"
      },
      "execution_count": null,
      "outputs": [
        {
          "output_type": "stream",
          "name": "stdout",
          "text": [
            "1/1 [==============================] - 0s 109ms/step\n",
            "[[0. 0. 1. 0. 0. 0. 0. 0. 0. 0.]]\n",
            "예측한 숫자 : 2\n",
            "실제 답 :  2\n"
          ]
        }
      ]
    },
    {
      "cell_type": "markdown",
      "source": [
        "### CNN 모델 설계"
      ],
      "metadata": {
        "id": "eqTO0HCfiqeE"
      }
    },
    {
      "cell_type": "code",
      "source": [
        "from tensorflow.keras import Sequential\n",
        "from tensorflow.keras.layers import Dense, Conv2D, MaxPooling2D, Flatten, InputLayer"
      ],
      "metadata": {
        "id": "kvLvicDFiqgV"
      },
      "execution_count": null,
      "outputs": []
    },
    {
      "cell_type": "code",
      "source": [
        "from os import mkdir\n",
        "# CNN 모델 -> cnn(특징 찾기!) + mlp(분류)\n",
        "# cnn : 이미지 내의 중요 요소, 특징을 찾아내어 학습에 적용시켜줌!\n",
        "# 위치, 크기에 덜 민감하게 작용 -> 정확도, 성능이 높은 모델링!\n",
        "\n",
        "model_cnn = Sequential()  # 뼈대 구축\n",
        "\n",
        "# 입력층\n",
        "model_cnn.add(InputLayer(input_shape = (28,28,1))) # 흑백 : 1, 컬러 : 3\n",
        "\n",
        "# cnn - 특성추출부\n",
        "# 커널 갯수(돋보기 갯수) : 32, 커널 크기(돋보기 크기) : (4,4)\n",
        "model_cnn.add(Conv2D(32, kernel_size = (4,4), padding = 'same', activation = 'relu'))\n",
        "model_cnn.add(MaxPooling2D(pool_size=(2,2)))\n",
        "\n",
        "model_cnn.add(Conv2D(64, kernel_size = (4,4), padding = 'same', activation = 'relu'))\n",
        "model_cnn.add(MaxPooling2D(pool_size=(2,2)))\n",
        "\n",
        "\n",
        "# 이전까지는 2차원, 찾은 특징을 통해 분류할 수 있도록 1차원으로 펴주어야함\n",
        "model_cnn.add(Flatten())\n",
        "\n",
        "# mlp층(분류, 예측부)\n",
        "model_cnn.add(Dense(128, activation='relu'))\n",
        "\n",
        "# 출력층\n",
        "model_cnn.add(Dense(10, activation='softmax'))"
      ],
      "metadata": {
        "id": "MbwyzIXS8CJ6"
      },
      "execution_count": null,
      "outputs": []
    },
    {
      "cell_type": "code",
      "source": [
        "# 모델 구조 확인\n",
        "model_cnn.summary()"
      ],
      "metadata": {
        "id": "cELTqUv68CML",
        "colab": {
          "base_uri": "https://localhost:8080/"
        },
        "outputId": "e211603d-fc92-4a61-c787-55b22562ae1f"
      },
      "execution_count": null,
      "outputs": [
        {
          "output_type": "stream",
          "name": "stdout",
          "text": [
            "Model: \"sequential\"\n",
            "_________________________________________________________________\n",
            " Layer (type)                Output Shape              Param #   \n",
            "=================================================================\n",
            " conv2d (Conv2D)             (None, 28, 28, 32)        544       \n",
            "                                                                 \n",
            " max_pooling2d (MaxPooling2D  (None, 14, 14, 32)       0         \n",
            " )                                                               \n",
            "                                                                 \n",
            " conv2d_1 (Conv2D)           (None, 14, 14, 64)        32832     \n",
            "                                                                 \n",
            " max_pooling2d_1 (MaxPooling  (None, 7, 7, 64)         0         \n",
            " 2D)                                                             \n",
            "                                                                 \n",
            " flatten (Flatten)           (None, 3136)              0         \n",
            "                                                                 \n",
            " dense (Dense)               (None, 128)               401536    \n",
            "                                                                 \n",
            " dense_1 (Dense)             (None, 10)                1290      \n",
            "                                                                 \n",
            "=================================================================\n",
            "Total params: 436,202\n",
            "Trainable params: 436,202\n",
            "Non-trainable params: 0\n",
            "_________________________________________________________________\n"
          ]
        }
      ]
    },
    {
      "cell_type": "code",
      "source": [
        "model_cnn.compile(loss = 'sparse_categorical_crossentropy',\n",
        "                  optimizer='adam',\n",
        "                  metrics=['accuracy'])"
      ],
      "metadata": {
        "id": "DCtHQseX8COi"
      },
      "execution_count": null,
      "outputs": []
    },
    {
      "cell_type": "code",
      "source": [
        "# 학습\n",
        "cnn_history = model_cnn.fit(X_train, y_train,\n",
        "                            validation_split = 0.3,\n",
        "                            epochs = 50)"
      ],
      "metadata": {
        "id": "BqoRI_4f8CQ3",
        "colab": {
          "base_uri": "https://localhost:8080/"
        },
        "outputId": "bae390c7-d622-463f-d949-c7fb648d228e"
      },
      "execution_count": null,
      "outputs": [
        {
          "output_type": "stream",
          "name": "stdout",
          "text": [
            "Epoch 1/50\n",
            "1313/1313 [==============================] - 17s 5ms/step - loss: 0.3132 - accuracy: 0.9452 - val_loss: 0.0871 - val_accuracy: 0.9731\n",
            "Epoch 2/50\n",
            "1313/1313 [==============================] - 7s 5ms/step - loss: 0.0608 - accuracy: 0.9821 - val_loss: 0.0659 - val_accuracy: 0.9804\n",
            "Epoch 3/50\n",
            "1313/1313 [==============================] - 7s 6ms/step - loss: 0.0487 - accuracy: 0.9853 - val_loss: 0.0861 - val_accuracy: 0.9749\n",
            "Epoch 4/50\n",
            "1313/1313 [==============================] - 7s 6ms/step - loss: 0.0388 - accuracy: 0.9884 - val_loss: 0.0762 - val_accuracy: 0.9806\n",
            "Epoch 5/50\n",
            "1313/1313 [==============================] - 6s 5ms/step - loss: 0.0367 - accuracy: 0.9886 - val_loss: 0.0677 - val_accuracy: 0.9822\n",
            "Epoch 6/50\n",
            "1313/1313 [==============================] - 7s 6ms/step - loss: 0.0341 - accuracy: 0.9898 - val_loss: 0.0913 - val_accuracy: 0.9819\n",
            "Epoch 7/50\n",
            "1313/1313 [==============================] - 6s 5ms/step - loss: 0.0276 - accuracy: 0.9917 - val_loss: 0.0787 - val_accuracy: 0.9858\n",
            "Epoch 8/50\n",
            "1313/1313 [==============================] - 8s 6ms/step - loss: 0.0291 - accuracy: 0.9915 - val_loss: 0.0719 - val_accuracy: 0.9860\n",
            "Epoch 9/50\n",
            "1313/1313 [==============================] - 6s 5ms/step - loss: 0.0244 - accuracy: 0.9933 - val_loss: 0.0868 - val_accuracy: 0.9838\n",
            "Epoch 10/50\n",
            "1313/1313 [==============================] - 7s 5ms/step - loss: 0.0237 - accuracy: 0.9935 - val_loss: 0.0934 - val_accuracy: 0.9841\n",
            "Epoch 11/50\n",
            "1313/1313 [==============================] - 8s 6ms/step - loss: 0.0263 - accuracy: 0.9931 - val_loss: 0.0869 - val_accuracy: 0.9861\n",
            "Epoch 12/50\n",
            "1313/1313 [==============================] - 6s 5ms/step - loss: 0.0249 - accuracy: 0.9941 - val_loss: 0.1060 - val_accuracy: 0.9854\n",
            "Epoch 13/50\n",
            "1313/1313 [==============================] - 8s 6ms/step - loss: 0.0211 - accuracy: 0.9949 - val_loss: 0.0886 - val_accuracy: 0.9851\n",
            "Epoch 14/50\n",
            "1313/1313 [==============================] - 6s 5ms/step - loss: 0.0216 - accuracy: 0.9953 - val_loss: 0.1066 - val_accuracy: 0.9847\n",
            "Epoch 15/50\n",
            "1313/1313 [==============================] - 7s 5ms/step - loss: 0.0245 - accuracy: 0.9950 - val_loss: 0.1001 - val_accuracy: 0.9867\n",
            "Epoch 16/50\n",
            "1313/1313 [==============================] - 6s 5ms/step - loss: 0.0215 - accuracy: 0.9953 - val_loss: 0.1109 - val_accuracy: 0.9875\n",
            "Epoch 17/50\n",
            "1313/1313 [==============================] - 7s 5ms/step - loss: 0.0198 - accuracy: 0.9962 - val_loss: 0.1326 - val_accuracy: 0.9845\n",
            "Epoch 18/50\n",
            "1313/1313 [==============================] - 6s 5ms/step - loss: 0.0198 - accuracy: 0.9960 - val_loss: 0.1292 - val_accuracy: 0.9867\n",
            "Epoch 19/50\n",
            "1313/1313 [==============================] - 8s 6ms/step - loss: 0.0168 - accuracy: 0.9966 - val_loss: 0.1222 - val_accuracy: 0.9867\n",
            "Epoch 20/50\n",
            "1313/1313 [==============================] - 6s 5ms/step - loss: 0.0193 - accuracy: 0.9968 - val_loss: 0.1351 - val_accuracy: 0.9852\n",
            "Epoch 21/50\n",
            "1313/1313 [==============================] - 7s 5ms/step - loss: 0.0197 - accuracy: 0.9967 - val_loss: 0.1834 - val_accuracy: 0.9832\n",
            "Epoch 22/50\n",
            "1313/1313 [==============================] - 6s 5ms/step - loss: 0.0214 - accuracy: 0.9961 - val_loss: 0.1536 - val_accuracy: 0.9860\n",
            "Epoch 23/50\n",
            "1313/1313 [==============================] - 7s 6ms/step - loss: 0.0213 - accuracy: 0.9970 - val_loss: 0.1703 - val_accuracy: 0.9844\n",
            "Epoch 24/50\n",
            "1313/1313 [==============================] - 7s 5ms/step - loss: 0.0235 - accuracy: 0.9963 - val_loss: 0.1781 - val_accuracy: 0.9870\n",
            "Epoch 25/50\n",
            "1313/1313 [==============================] - 7s 5ms/step - loss: 0.0181 - accuracy: 0.9969 - val_loss: 0.2022 - val_accuracy: 0.9857\n",
            "Epoch 26/50\n",
            "1313/1313 [==============================] - 6s 5ms/step - loss: 0.0271 - accuracy: 0.9963 - val_loss: 0.1789 - val_accuracy: 0.9887\n",
            "Epoch 27/50\n",
            "1313/1313 [==============================] - 7s 5ms/step - loss: 0.0174 - accuracy: 0.9972 - val_loss: 0.2005 - val_accuracy: 0.9883\n",
            "Epoch 28/50\n",
            "1313/1313 [==============================] - 6s 5ms/step - loss: 0.0201 - accuracy: 0.9972 - val_loss: 0.2002 - val_accuracy: 0.9867\n",
            "Epoch 29/50\n",
            "1313/1313 [==============================] - 7s 5ms/step - loss: 0.0229 - accuracy: 0.9970 - val_loss: 0.2094 - val_accuracy: 0.9868\n",
            "Epoch 30/50\n",
            "1313/1313 [==============================] - 6s 5ms/step - loss: 0.0219 - accuracy: 0.9977 - val_loss: 0.2223 - val_accuracy: 0.9869\n",
            "Epoch 31/50\n",
            "1313/1313 [==============================] - 7s 5ms/step - loss: 0.0168 - accuracy: 0.9981 - val_loss: 0.2942 - val_accuracy: 0.9836\n",
            "Epoch 32/50\n",
            "1313/1313 [==============================] - 7s 5ms/step - loss: 0.0254 - accuracy: 0.9970 - val_loss: 0.2906 - val_accuracy: 0.9847\n",
            "Epoch 33/50\n",
            "1313/1313 [==============================] - 8s 6ms/step - loss: 0.0275 - accuracy: 0.9966 - val_loss: 0.3544 - val_accuracy: 0.9859\n",
            "Epoch 34/50\n",
            "1313/1313 [==============================] - 6s 5ms/step - loss: 0.0244 - accuracy: 0.9978 - val_loss: 0.3103 - val_accuracy: 0.9852\n",
            "Epoch 35/50\n",
            "1313/1313 [==============================] - 8s 6ms/step - loss: 0.0148 - accuracy: 0.9981 - val_loss: 0.4277 - val_accuracy: 0.9866\n",
            "Epoch 36/50\n",
            "1313/1313 [==============================] - 6s 5ms/step - loss: 0.0354 - accuracy: 0.9971 - val_loss: 0.3550 - val_accuracy: 0.9849\n",
            "Epoch 37/50\n",
            "1313/1313 [==============================] - 7s 5ms/step - loss: 0.0236 - accuracy: 0.9977 - val_loss: 0.3319 - val_accuracy: 0.9876\n",
            "Epoch 38/50\n",
            "1313/1313 [==============================] - 6s 5ms/step - loss: 0.0183 - accuracy: 0.9980 - val_loss: 0.3056 - val_accuracy: 0.9884\n",
            "Epoch 39/50\n",
            "1313/1313 [==============================] - 7s 5ms/step - loss: 0.0248 - accuracy: 0.9980 - val_loss: 0.4049 - val_accuracy: 0.9868\n",
            "Epoch 40/50\n",
            "1313/1313 [==============================] - 6s 5ms/step - loss: 0.0200 - accuracy: 0.9980 - val_loss: 0.4363 - val_accuracy: 0.9836\n",
            "Epoch 41/50\n",
            "1313/1313 [==============================] - 7s 5ms/step - loss: 0.0169 - accuracy: 0.9983 - val_loss: 0.3495 - val_accuracy: 0.9862\n",
            "Epoch 42/50\n",
            "1313/1313 [==============================] - 6s 5ms/step - loss: 0.0367 - accuracy: 0.9973 - val_loss: 0.3692 - val_accuracy: 0.9867\n",
            "Epoch 43/50\n",
            "1313/1313 [==============================] - 8s 6ms/step - loss: 0.0142 - accuracy: 0.9984 - val_loss: 0.3634 - val_accuracy: 0.9882\n",
            "Epoch 44/50\n",
            "1313/1313 [==============================] - 6s 5ms/step - loss: 0.0176 - accuracy: 0.9979 - val_loss: 0.4333 - val_accuracy: 0.9867\n",
            "Epoch 45/50\n",
            "1313/1313 [==============================] - 7s 6ms/step - loss: 0.0267 - accuracy: 0.9980 - val_loss: 0.3619 - val_accuracy: 0.9881\n",
            "Epoch 46/50\n",
            "1313/1313 [==============================] - 6s 5ms/step - loss: 0.0326 - accuracy: 0.9976 - val_loss: 0.4808 - val_accuracy: 0.9863\n",
            "Epoch 47/50\n",
            "1313/1313 [==============================] - 7s 5ms/step - loss: 0.0233 - accuracy: 0.9982 - val_loss: 0.5160 - val_accuracy: 0.9873\n",
            "Epoch 48/50\n",
            "1313/1313 [==============================] - 6s 5ms/step - loss: 0.0308 - accuracy: 0.9984 - val_loss: 0.4456 - val_accuracy: 0.9884\n",
            "Epoch 49/50\n",
            "1313/1313 [==============================] - 7s 5ms/step - loss: 0.0356 - accuracy: 0.9979 - val_loss: 0.5398 - val_accuracy: 0.9864\n",
            "Epoch 50/50\n",
            "1313/1313 [==============================] - 6s 5ms/step - loss: 0.0175 - accuracy: 0.9988 - val_loss: 0.4979 - val_accuracy: 0.9884\n"
          ]
        }
      ]
    },
    {
      "cell_type": "code",
      "source": [
        "# 시각화 해보기\n",
        "plt.figure(figsize = (10,4))\n",
        "\n",
        "plt.plot(cnn_history.history['accuracy'], label='acc')\n",
        "plt.plot(cnn_history.history['val_accuracy'], label='val_acc')\n",
        "\n",
        "plt.legend()\n",
        "plt.show()"
      ],
      "metadata": {
        "id": "6WYmXzf08CTM",
        "colab": {
          "base_uri": "https://localhost:8080/",
          "height": 368
        },
        "outputId": "7347ea33-43b9-4976-e45b-af3f9151bbd9"
      },
      "execution_count": null,
      "outputs": [
        {
          "output_type": "display_data",
          "data": {
            "text/plain": [
              "<Figure size 1000x400 with 1 Axes>"
            ],
            "image/png": "[encoded data removed]"
          },
          "metadata": {}
        }
      ]
    },
    {
      "cell_type": "code",
      "source": [],
      "metadata": {
        "id": "hTCiDqRb8CVr"
      },
      "execution_count": null,
      "outputs": []
    },
    {
      "cell_type": "code",
      "source": [],
      "metadata": {
        "id": "HJV1E1xl8CX-"
      },
      "execution_count": null,
      "outputs": []
    }
  ]
}